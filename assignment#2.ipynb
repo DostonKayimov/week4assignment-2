{
 "cells": [
  {
   "cell_type": "code",
   "execution_count": 1,
   "metadata": {},
   "outputs": [
    {
     "name": "stdout",
     "output_type": "stream",
     "text": [
      "Please, enter your username.\n",
      "Sarah\n",
      "Excuse us Sarah, this username must to be changed! \n",
      "\n",
      "Please, enter your username.\n",
      "Doston\n",
      "The username is available! \n",
      "\n",
      "Doston, please inpute the password!\n",
      "nebula\n",
      "Access granted!\n"
     ]
    }
   ],
   "source": [
    "#Create a program that simulates how websites ensure that everyone has a unique username\n",
    "\n",
    "current_users = [\"Bill\", \"Jhon\", \"Sarah\", \"Ginny\", \"Conor\"]\n",
    "new_users = [\"Joey\", \"Sarah\", \"Emilly\", \"Jhon\", \"Delix\"]\n",
    "\n",
    "while True:\n",
    "\n",
    "    print(\"Please, enter your username.\")\n",
    "    Username = input()\n",
    "\n",
    "    if Username in current_users:\n",
    "        print(f\"Excuse us {Username}, this username must to be changed! \\n\")\n",
    "        continue\n",
    "\n",
    "    elif Username not in current_users:\n",
    "        print(\"The username is available! \\n\")\n",
    "        break\n",
    "\n",
    "print(f\"{Username}, please inpute the password!\")\n",
    "\n",
    "password = input() #nebula\n",
    "if password == \"nebula\":\n",
    "    print(\"Access granted!\")\n",
    "\n",
    "elif password != \"nebula\":\n",
    "    print(\"Incorrect password. Try again!\")"
   ]
  },
  {
   "cell_type": "code",
   "execution_count": null,
   "metadata": {},
   "outputs": [],
   "source": []
  }
 ],
 "metadata": {
  "kernelspec": {
   "display_name": "Python 3",
   "language": "python",
   "name": "python3"
  },
  "language_info": {
   "codemirror_mode": {
    "name": "ipython",
    "version": 3
   },
   "file_extension": ".py",
   "mimetype": "text/x-python",
   "name": "python",
   "nbconvert_exporter": "python",
   "pygments_lexer": "ipython3",
   "version": "3.8.5"
  }
 },
 "nbformat": 4,
 "nbformat_minor": 4
}
